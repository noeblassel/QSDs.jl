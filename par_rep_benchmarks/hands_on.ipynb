{
 "cells": [
  {
   "cell_type": "code",
   "execution_count": 3,
   "metadata": {},
   "outputs": [
    {
     "name": "stderr",
     "output_type": "stream",
     "text": [
      "WARNING: replacing module ParRep.\n"
     ]
    }
   ],
   "source": [
    "include(\"ParRep.jl\"); using .ParRep"
   ]
  },
  {
   "cell_type": "code",
   "execution_count": 4,
   "id": "6f2bd25d",
   "metadata": {},
   "outputs": [],
   "source": [
    "Base.@kwdef mutable struct GelmanRubinDiagnostic{F}\n",
    "    observables::F\n",
    "    means = Matrix{Float64}(undef,1,1)\n",
    "    sq_means = Matrix{Float64}(undef,1,1)\n",
    "    burn_in = 10\n",
    "    tol = 1e-4\n",
    "    gr_hist = Float64[]\n",
    "end\n",
    "\n",
    "function check_dephasing!(checker::GelmanRubinDiagnostic,replicas::Vector{X},step_n) where {X}\n",
    "    \n",
    "    if step_n == 1 # initialize running mean and running square_mean buffer\n",
    "        checker.means = zeros(length(checker.observables),length(replicas))\n",
    "        checker.sq_means = copy(checker.means)\n",
    "    end\n",
    "    \n",
    "    @threads for i=1:length(replicas)\n",
    "        r = replicas[i]\n",
    "        for (j,f)=enumerate(checker.observables)\n",
    "            val = f(r)\n",
    "            sq_val = val^2\n",
    "\n",
    "            checker.means[j,i] += (val-checker.means[j,i]) / step_n\n",
    "            checker.sq_means[j,i] += (sq_val-checker.sq_means[j,i]) / step_n\n",
    "\n",
    "        end\n",
    "    end\n",
    "\n",
    "    (step_n < checker.burn_in) && return false\n",
    "\n",
    "    Obar = sum(checker.means;dims = 2) / length(replicas)\n",
    "\n",
    "    numerator = sum(@. (checker.sq_means -2checker.means*Obar + Obar^2);dims=2)\n",
    "    denominator = sum(checker.sq_means - checker.means .^ 2;dims=2)\n",
    "\n",
    "    R = maximum(numerator ./ denominator) - 1\n",
    "    push!(checker.gr_hist,R)\n",
    "    return (R < checker.tol)\n",
    "end\n"
   ]
  },
  {
   "cell_type": "code",
   "execution_count": 6,
   "id": "30d83440",
   "metadata": {},
   "outputs": [
    {
     "data": {
      "text/plain": [
       "get_state! (generic function with 1 method)"
      ]
     },
     "metadata": {},
     "output_type": "display_data"
    }
   ],
   "source": [
    "Base.@kwdef mutable struct SteepestDescentState{X}\n",
    "    η = 0.1\n",
    "    dist_tol = 1e-1\n",
    "    grad_tol = 1e-5\n",
    "    steps = 100\n",
    "    minima = X[]\n",
    "    ∇V::Function\n",
    "end\n",
    "\n",
    "function get_state!(checker::SteepestDescentState,state::X,_) where {X}\n",
    "    for k=1:checker.steps\n",
    "        grad = checker.∇V(state)\n",
    "        state -= checker.η * checker.grad # gradient descent step\n",
    "        deltas = [√sum(abs2,m-state) for m in checker.minima]\n",
    "\n",
    "        any(delta < checker.dist_tol for delta in deltas) && return first(i for (i,m)=enumerate(checker.minima) if deltas[i]<checker.dist_tol)\n",
    "\n",
    "        grad_norm = √sum(abs2,grad)\n",
    "        (grad_norm < checker.grad_tol) && break\n",
    "    end\n",
    "\n",
    "    if grad_norm < checker.grad_tol\n",
    "        push!(checker.minima,state)\n",
    "        return length(checker.minima)\n",
    "    else\n",
    "        return nothing\n",
    "    end\n",
    "end"
   ]
  },
  {
   "cell_type": "code",
   "execution_count": null,
   "id": "8207f65c",
   "metadata": {},
   "outputs": [],
   "source": []
  }
 ],
 "metadata": {
  "kernelspec": {
   "display_name": "Julia 1.9.1",
   "language": "julia",
   "name": "julia-1.9"
  },
  "language_info": {
   "file_extension": ".jl",
   "mimetype": "application/julia",
   "name": "julia",
   "version": "1.9.1"
  }
 },
 "nbformat": 4,
 "nbformat_minor": 5
}
