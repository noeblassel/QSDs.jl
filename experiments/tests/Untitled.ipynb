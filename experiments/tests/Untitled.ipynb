{
 "cells": [
  {
   "cell_type": "code",
   "execution_count": 6,
   "id": "e12b1fcc",
   "metadata": {},
   "outputs": [
    {
     "name": "stderr",
     "output_type": "stream",
     "text": [
      "WARNING: replacing module QSDs.\n",
      "WARNING: replacing module GeometryUtils.\n"
     ]
    },
    {
     "data": {
      "text/plain": [
       "\"outputs\""
      ]
     },
     "execution_count": 6,
     "metadata": {},
     "output_type": "execute_result"
    }
   ],
   "source": [
    "main_dir = \"/home/nblassel/Documents/QSDs.jl/\"\n",
    "\n",
    "include(joinpath(main_dir,\"QSDs.jl\"))\n",
    "include(joinpath(main_dir,\"GeometryUtils.jl\"))\n",
    "\n",
    "!isdir(\"./outputs\") && mkdir(\"outputs\")"
   ]
  },
  {
   "cell_type": "code",
   "execution_count": 4,
   "id": "2f86bbf1",
   "metadata": {},
   "outputs": [],
   "source": [
    "using LinearAlgebra,Plots,TriplotRecipes,Arpack"
   ]
  },
  {
   "cell_type": "code",
   "execution_count": 5,
   "id": "2ea40a6c",
   "metadata": {},
   "outputs": [
    {
     "data": {
      "text/plain": [
       "\"outputs/local_max.out\""
      ]
     },
     "execution_count": 5,
     "metadata": {},
     "output_type": "execute_result"
    }
   ],
   "source": [
    "β = 4.0\n",
    "output_file = \"outputs/local_max.out\""
   ]
  },
  {
   "cell_type": "code",
   "execution_count": null,
   "id": "e9020c98",
   "metadata": {},
   "outputs": [],
   "source": []
  }
 ],
 "metadata": {
  "kernelspec": {
   "display_name": "Julia 1.8.5",
   "language": "julia",
   "name": "julia-1.8"
  },
  "language_info": {
   "file_extension": ".jl",
   "mimetype": "application/julia",
   "name": "julia",
   "version": "1.8.5"
  }
 },
 "nbformat": 4,
 "nbformat_minor": 5
}
