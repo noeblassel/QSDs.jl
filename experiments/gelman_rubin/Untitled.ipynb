{
 "cells": [
  {
   "cell_type": "code",
   "execution_count": 4,
   "id": "136d8e61",
   "metadata": {},
   "outputs": [],
   "source": [
    "using Plots,LinearAlgebra"
   ]
  },
  {
   "cell_type": "code",
   "execution_count": 39,
   "id": "ca5d9b7a",
   "metadata": {},
   "outputs": [],
   "source": [
    "n = 10\n",
    "P = rand(n,n)\n",
    "for i=1:n\n",
    "    P[i,:] /= sum(P[i,:])\n",
    "end"
   ]
  },
  {
   "cell_type": "code",
   "execution_count": 41,
   "id": "f3ff8b96",
   "metadata": {},
   "outputs": [
    {
     "data": {
      "text/plain": [
       "10×10 Matrix{Float64}:\n",
       " -0.00788976  -0.0182822   -0.00894759  …  -0.00395826   -0.011478\n",
       " -0.00618739  -0.0125616   -0.0142365      -0.000953624  -0.0227433\n",
       " -0.0162126   -0.0101595   -0.0112421      -0.00459982   -0.00548379\n",
       " -0.00258368  -0.0177497   -0.00542511     -0.0043492    -0.00522126\n",
       " -0.021382    -0.0070519   -0.0211492      -0.0206551    -0.0212715\n",
       " -0.0113718   -0.0155299   -0.00306601  …  -0.00840892   -0.011377\n",
       " -0.00805893  -0.00724495  -0.00870752     -0.00130247   -0.0133334\n",
       " -0.00468968  -0.00752772  -0.014921       -0.0120511    -0.00033873\n",
       " -0.007673    -0.0056976   -0.00709119     -0.000360861  -0.00631845\n",
       " -0.00646722  -0.0175303   -0.00813314     -0.015052     -0.0101048"
      ]
     },
     "execution_count": 41,
     "metadata": {},
     "output_type": "execute_result"
    }
   ],
   "source": [
    "mu = real.(eigvecs(P')[:,n])\n",
    "normalize!(mu,1)\n",
    "M = diagm(mu)\n",
    "M*P"
   ]
  },
  {
   "cell_type": "code",
   "execution_count": 36,
   "id": "7eb53035",
   "metadata": {},
   "outputs": [
    {
     "data": {
      "text/plain": [
       "GeneralizedEigen{ComplexF64, ComplexF64, Matrix{ComplexF64}, Vector{ComplexF64}}\n",
       "values:\n",
       "10-element Vector{ComplexF64}:\n",
       " -0.14873726357616074 + 0.03590321766428891im\n",
       "  -0.1487372635761607 - 0.03590321766428891im\n",
       " -0.07401790593257784 - 0.03741069133264405im\n",
       " -0.07401790593257783 + 0.03741069133264404im\n",
       " 0.017356461241831114 - 0.18028363574137965im\n",
       " 0.017356461241831114 + 0.18028363574137965im\n",
       "   0.0439172497873624 + 0.0im\n",
       "   0.1392112969532529 + 0.03758097281026111im\n",
       "  0.13921129695325293 - 0.03758097281026111im\n",
       "   0.9999999999999999 + 0.0im\n",
       "vectors:\n",
       "10×10 Matrix{ComplexF64}:\n",
       "   0.31946-0.0422706im     0.31946+0.0422706im   …  -1.0+0.0im\n",
       " -0.445156-0.036784im    -0.445156+0.036784im       -1.0+0.0im\n",
       "  0.283712+0.00926221im   0.283712-0.00926221im     -1.0+0.0im\n",
       " -0.517966-0.456659im    -0.517966+0.456659im       -1.0+0.0im\n",
       " -0.158739-0.0753961im   -0.158739+0.0753961im      -1.0+0.0im\n",
       " -0.305696+0.352426im    -0.305696-0.352426im    …  -1.0+0.0im\n",
       "  0.223319-0.146251im     0.223319+0.146251im       -1.0+0.0im\n",
       "  0.843242+0.156758im     0.843242-0.156758im       -1.0+0.0im\n",
       " -0.508227-0.115668im    -0.508227+0.115668im       -1.0+0.0im\n",
       "  0.107217+0.271681im     0.107217-0.271681im       -1.0+0.0im"
      ]
     },
     "execution_count": 36,
     "metadata": {},
     "output_type": "execute_result"
    }
   ],
   "source": [
    "eigen(M*P,M)"
   ]
  },
  {
   "cell_type": "code",
   "execution_count": null,
   "id": "da6a4aee",
   "metadata": {},
   "outputs": [],
   "source": []
  }
 ],
 "metadata": {
  "kernelspec": {
   "display_name": "Julia 1.9.0-rc3",
   "language": "julia",
   "name": "julia-1.9"
  },
  "language_info": {
   "file_extension": ".jl",
   "mimetype": "application/julia",
   "name": "julia",
   "version": "1.9.0"
  }
 },
 "nbformat": 4,
 "nbformat_minor": 5
}
